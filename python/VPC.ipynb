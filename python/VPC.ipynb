{
 "cells": [
  {
   "cell_type": "markdown",
   "metadata": {},
   "source": [
    "## [Create VPC](https://blog.ipswitch.com/how-to-create-and-configure-an-aws-vpc-with-python)\n",
    "\n",
    "\n",
    "#### add [boto3 credentials](https://boto3.amazonaws.com/v1/documentation/api/latest/guide/configuration.html) to ~/.aws/credentials using a profile_name of form:\n",
    "\n",
    "```\n",
    "[default]\n",
    "aws_access_key_id = XXXXXXXXXXXXXXXXXXXXXXXXXXXX\n",
    "aws_secret_access_key = xxxxxxxxxxxxxxxxxxxxxxxxxxx\n",
    "\n",
    "region=us-east-1\n",
    "\n",
    "\n",
    "[seigniorage]\n",
    "aws_access_key_id = XXXXXXXXXXXXXXXXXXXXXXXXXXX\n",
    "aws_secret_access_key = xxxxxxxxxxxxxxxxxxxxxxxxx\n",
    "\n",
    "region=us-east-2\n",
    "```"
   ]
  },
  {
   "cell_type": "code",
   "execution_count": null,
   "metadata": {
    "collapsed": true
   },
   "outputs": [],
   "source": [
    "import boto3\n",
    "import os\n",
    "\n",
    "\n",
    "session = boto3.Session(profile_name='seigniorage')\n",
    "ec2 = session.resource('ec2')"
   ]
  },
  {
   "cell_type": "markdown",
   "metadata": {},
   "source": [
    "## Create Network\n",
    "1. VPC\n",
    "2. InternetGateway\n",
    "3. Route Table\n",
    "4. Subnets\n",
    "5. Security Group"
   ]
  },
  {
   "cell_type": "code",
   "execution_count": null,
   "metadata": {
    "collapsed": true
   },
   "outputs": [],
   "source": [
    "KEY_NAME  =  \"blockchain-nodes-keypair\"\n",
    "KEY_DIRECTORY = \"/data/code/software/aws/seigniorage/test/\"\n",
    "\n",
    "SECURITYGROUP_NAME  =  \"blockchain-nodes-sg\"\n",
    "\n",
    "DATAVOLUME_NAME     =  \"Algorand Mainnet Chain Data\"\n",
    "DATAVOLUME_SIZE     =  64\n",
    "\n",
    "INSTANCE_NAME = 'Algorand Mainnet'\n",
    "Amazon_Ubuntu_AMI_18_04_LTS = 'ami-0d5d9d301c853a04a'\n",
    "Instance_Type = 't2.medium' #micro=1GB, small=2GB, medium=4GB, large=8GB https://us-east-2.console.aws.amazon.com/ec2/v2/home?region=us-east-2#LaunchInstanceWizard:\n",
    "\n",
    "AVZONE = session.region_name+'b'\n",
    "VPC_ID, SUBNET_ID = get_subnet_id(AVZONE,\"public\")\n",
    "SECURITY_GROUP_ID = get_security_group_id(session,VPC_ID,SECURITYGROUP_NAME)"
   ]
  },
  {
   "cell_type": "markdown",
   "metadata": {},
   "source": [
    "### Create Key Pair for EC2 Instance\n",
    "\n",
    "1. key pem files can be used multiple times; just create on for all EC2 instances"
   ]
  },
  {
   "cell_type": "code",
   "execution_count": null,
   "metadata": {
    "collapsed": true
   },
   "outputs": [],
   "source": [
    "file = KEY_DIRECTORY + KEY_NAME + '.pem'\n",
    "outfile = open(file,'w')\n",
    "\n",
    "# call the boto ec2 function to create a key pair\n",
    "key_pair = ec2.create_key_pair(KeyName=KEY_NAME)\n",
    "\n",
    "# capture the key and store it in a file\n",
    "KeyPairOut = str(key_pair.key_material)\n",
    "print(KeyPairOut)\n",
    "outfile.write(KeyPairOut)\n",
    "outfile.close()\n",
    "\n",
    "os.chmod(file,0o400)"
   ]
  },
  {
   "cell_type": "markdown",
   "metadata": {},
   "source": [
    "### Create Virtual Private Cloud (VPC)"
   ]
  },
  {
   "cell_type": "code",
   "execution_count": null,
   "metadata": {
    "collapsed": true
   },
   "outputs": [],
   "source": [
    "vpc = ec2.create_vpc(CidrBlock='10.1.0.0/16')\n",
    "\n",
    "# we can assign a name to vpc, or any resource, by using tag\n",
    "vpc.create_tags(Tags=[{\"Key\": \"Name\", \"Value\": VPC_NAME}])\n",
    "\n",
    "vpc.wait_until_available()\n",
    "print(vpc.id)"
   ]
  },
  {
   "cell_type": "markdown",
   "metadata": {},
   "source": [
    "### Create and Attach Internet Gateway"
   ]
  },
  {
   "cell_type": "code",
   "execution_count": null,
   "metadata": {
    "collapsed": true
   },
   "outputs": [],
   "source": [
    "# create then attach internet gateway\n",
    "ig = ec2.create_internet_gateway()\n",
    "ig.create_tags(Tags=[{\"Key\": \"Name\", \"Value\": IGW_NAME}])\n",
    "vpc.attach_internet_gateway(InternetGatewayId=ig.id)\n",
    "print(ig.id)"
   ]
  },
  {
   "cell_type": "markdown",
   "metadata": {},
   "source": [
    "### Create a Route Table and a Public Route"
   ]
  },
  {
   "cell_type": "code",
   "execution_count": null,
   "metadata": {
    "collapsed": true
   },
   "outputs": [],
   "source": [
    "# create a route table and a public route\n",
    "route_table = vpc.create_route_table()\n",
    "route_table.create_tags(Tags=[{\"Key\": \"Name\", \"Value\": ROUTETABLE_NAME}])\n",
    "\n",
    "route = route_table.create_route(\n",
    "    DestinationCidrBlock='0.0.0.0/0',\n",
    "    GatewayId=ig.id\n",
    ")\n",
    "\n",
    "print(route_table.id)"
   ]
  },
  {
   "cell_type": "markdown",
   "metadata": {},
   "source": [
    "### Create subnets\n",
    "\n",
    "1. Why so many?  Do we need both a public-a and public-b subnet?"
   ]
  },
  {
   "cell_type": "code",
   "execution_count": null,
   "metadata": {
    "collapsed": true
   },
   "outputs": [],
   "source": [
    "# create subnets\n",
    "# only associate public nets with route table\n",
    "\n",
    "subnet1 = ec2.create_subnet(CidrBlock='10.1.1.0/24', VpcId=vpc.id, AvailabilityZone=SUBNET+'a')\n",
    "subnet1.create_tags(Tags=[{\"Key\": \"Name\", \"Value\": SUBNET_NAME + \"public-a\"}])\n",
    "# associate the route table with the subnet\n",
    "route_table.associate_with_subnet(SubnetId=subnet1.id)\n",
    "\n",
    "subnet2 = ec2.create_subnet(CidrBlock='10.1.2.0/24', VpcId=vpc.id, AvailabilityZone=SUBNET+'b')\n",
    "subnet2.create_tags(Tags=[{\"Key\": \"Name\", \"Value\": SUBNET_NAME + \"public-b\"}])\n",
    "# associate the route table with the subnet\n",
    "route_table.associate_with_subnet(SubnetId=subnet2.id)\n",
    "\n",
    "subnet3 = ec2.create_subnet(CidrBlock='10.1.3.0/24', VpcId=vpc.id, AvailabilityZone=SUBNET+'a')\n",
    "subnet3.create_tags(Tags=[{\"Key\": \"Name\", \"Value\": SUBNET_NAME + \"private-a\"}])\n",
    "\n",
    "subnet4 = ec2.create_subnet(CidrBlock='10.1.4.0/24', VpcId=vpc.id, AvailabilityZone=SUBNET+'b')\n",
    "subnet4.create_tags(Tags=[{\"Key\": \"Name\", \"Value\": SUBNET_NAME + \"private-b\"}])\n",
    "\n",
    "print('subnets',subnet1.id,subnet2.id,subnet3.id,subnet4.id)"
   ]
  },
  {
   "cell_type": "markdown",
   "metadata": {},
   "source": [
    "### Create Security Group"
   ]
  },
  {
   "cell_type": "code",
   "execution_count": null,
   "metadata": {
    "collapsed": true
   },
   "outputs": [],
   "source": [
    "# Create security group\n",
    "sec_group = ec2.create_security_group(\n",
    "    GroupName=SECURITYGROUP_NAME, Description='Allow SSH, HTTP and HTTPS', VpcId=vpc.id)\n",
    "\n",
    "sec_group.authorize_ingress(\n",
    "    GroupId=sec_group.id,\n",
    "    IpPermissions=[\n",
    "        {'IpProtocol': 'tcp',\n",
    "         'FromPort': 80,\n",
    "         'ToPort': 80,\n",
    "         'IpRanges': [{'CidrIp': '0.0.0.0/0'}]},\n",
    "        {'IpProtocol': 'tcp',\n",
    "         'FromPort': 443,\n",
    "         'ToPort': 443,\n",
    "         'IpRanges': [{'CidrIp': '0.0.0.0/0'}]},\n",
    "        {'IpProtocol': 'tcp',\n",
    "         'FromPort': 8080,\n",
    "         'ToPort': 8080,\n",
    "         'IpRanges': [{'CidrIp': '0.0.0.0/0'}]},\n",
    "        {'IpProtocol': 'tcp',\n",
    "         'FromPort': 22,\n",
    "         'ToPort': 22,\n",
    "         'IpRanges': [{'CidrIp': '0.0.0.0/0'}]}\n",
    "    ])\n",
    "\n",
    "sec_group.create_tags(Tags=[{\"Key\": \"Name\", \"Value\": SECURITYGROUP_NAME}])\n",
    "\n",
    "instance_security_group_id=sec_group.id\n",
    "\n",
    "print(sec_group.id)"
   ]
  }
 ],
 "metadata": {
  "kernelspec": {
   "display_name": "Python [conda env:res]",
   "language": "python",
   "name": "conda-env-res-py"
  },
  "language_info": {
   "codemirror_mode": {
    "name": "ipython",
    "version": 3
   },
   "file_extension": ".py",
   "mimetype": "text/x-python",
   "name": "python",
   "nbconvert_exporter": "python",
   "pygments_lexer": "ipython3",
   "version": "3.6.6"
  }
 },
 "nbformat": 4,
 "nbformat_minor": 2
}
