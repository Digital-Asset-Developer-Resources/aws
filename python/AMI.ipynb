{
 "cells": [
  {
   "cell_type": "markdown",
   "metadata": {},
   "source": [
    "## AWS AMI\n",
    "\n",
    "1. Import boto3 package \n",
    "2. Read *blockchain-nodes* profile found in ~.aws/credentials\n",
    "3. Create a EC2 session for instance creation\n",
    "4. Read aws details for name, node, datavoluem size and instance type"
   ]
  },
  {
   "cell_type": "code",
   "execution_count": null,
   "metadata": {
    "collapsed": true
   },
   "outputs": [],
   "source": [
    "import boto3\n",
    "import os\n",
    "import pandas as pd"
   ]
  },
  {
   "cell_type": "markdown",
   "metadata": {},
   "source": [
    "## Helper functions to find existing subnets and security group IDs.\n",
    "\n",
    "See AWS VPC notebook for creation of these resources."
   ]
  },
  {
   "cell_type": "code",
   "execution_count": null,
   "metadata": {
    "collapsed": true
   },
   "outputs": [],
   "source": [
    "def get_subnet_id(AVZONE,\n",
    "                  subnet_type='public'):\n",
    "    \n",
    "    for vpc in ec2.vpcs.all():\n",
    "        for az in ec2.meta.client.describe_availability_zones()[\"AvailabilityZones\"]:\n",
    "            for subnet in vpc.subnets.filter(Filters=[{\"Name\": \"availabilityZone\", \"Values\": [az[\"ZoneName\"]]}]):\n",
    "                if (az[\"ZoneName\"] == AVZONE) & (subnet_type in subnet.tags[0]['Value']):\n",
    "                    return vpc.id, subnet.id\n",
    "\n",
    "def get_security_group_id(session,VPC_ID,SECURITYGROUP_NAME):\n",
    "    client = boto3.client(\"ec2\", region_name=session.region_name)\n",
    "    return client.describe_security_groups(Filters = [{\"Name\":\"vpc-id\",\n",
    "                                               \"Values\":[VPC_ID]\n",
    "                                               },{\n",
    "                                                \"Name\":\"group-name\",\n",
    "                                                \"Values\":[SECURITYGROUP_NAME]\n",
    "                                              }])\\\n",
    "                ['SecurityGroups'][0]['GroupId']"
   ]
  },
  {
   "cell_type": "markdown",
   "metadata": {},
   "source": [
    "## Launch Existing AMI\n",
    "\n",
    "User data necessary for mounting blockchain data volume.  \n",
    "\n",
    "**TO DO** create entry in /etc/fstab during EC2 node creation to remove USERDATA.\n"
   ]
  },
  {
   "cell_type": "code",
   "execution_count": null,
   "metadata": {
    "collapsed": true
   },
   "outputs": [],
   "source": [
    "def launch_ami(session, AMI_ID, DATAVOLUME_NAME, INSTANCE_TYPE, DATAVOLUME_SIZE):\n",
    "\n",
    "    VPC_ID, SUBNET_ID = get_subnet_id(session.region_name+'b',\"public\")\n",
    "    SECURITY_GROUP_ID = get_security_group_id(session, VPC_ID, \"blockchain-nodes-sg\")\n",
    "\n",
    "    USERDATA = '''#!/bin/bash\n",
    "    sudo mount /dev/xvdf /data\n",
    "\n",
    "    sudo xfs_growfs -d /data\n",
    "    '''\n",
    "\n",
    "    instance = ec2.create_instances(\n",
    "        ImageId=AMI_ID,\n",
    "        MinCount=1,\n",
    "        MaxCount=1,\n",
    "        UserData=USERDATA,\n",
    "        IamInstanceProfile={\n",
    "            'Name': \"blockchain-node-role\"\n",
    "        },\n",
    "        BlockDeviceMappings=[\n",
    "            {\n",
    "                'DeviceName': '/dev/xvdf',\n",
    "                'Ebs': {\n",
    "                    'DeleteOnTermination': True,\n",
    "                    'VolumeSize': DATAVOLUME_SIZE,\n",
    "                    'VolumeType': 'gp2'\n",
    "                },\n",
    "            },\n",
    "        ],\n",
    "        InstanceType=INSTANCE_TYPE,\n",
    "        KeyName=\"blockchain-nodes-keypair\",\n",
    "        Placement={'AvailabilityZone':session.region_name+'b'},\n",
    "        TagSpecifications=[\n",
    "            {\n",
    "                'ResourceType': 'instance',\n",
    "                'Tags': [\n",
    "                    {\n",
    "                        'Key': 'Name',\n",
    "                        'Value': DATAVOLUME_NAME\n",
    "                    },\n",
    "                ]\n",
    "            },\n",
    "        ],\n",
    "        NetworkInterfaces=[{'SubnetId': SUBNET_ID, \n",
    "                         'DeviceIndex': 0, \n",
    "                         'AssociatePublicIpAddress': True, \n",
    "                         'Groups': [SECURITY_GROUP_ID]}])\n",
    "    \n",
    "    return instance"
   ]
  },
  {
   "cell_type": "code",
   "execution_count": null,
   "metadata": {
    "collapsed": true
   },
   "outputs": [],
   "source": [
    "def get_images(session):\n",
    "\n",
    "    client = boto3.client(\"ec2\", region_name=session.region_name)\n",
    "    images = client.describe_images(\n",
    "        Owners=['230081908227'],\n",
    "    )\n",
    "    images = pd.DataFrame(images['Images'])      \n",
    "\n",
    "    images['DataVolumeSize'] = None\n",
    "    images['nameTag']        = None\n",
    "\n",
    "    for image in range(len(images)):\n",
    "        disks = images.iloc[image].BlockDeviceMappings\n",
    "        for idx in range(len(disks)):\n",
    "            if disks[idx]['DeviceName']=='/dev/xvdf':\n",
    "                images.loc[image,'DataVolumeSize'] = images.iloc[image].BlockDeviceMappings[idx]['Ebs']['VolumeSize']\n",
    "\n",
    "        tags = images.iloc[image].Tags\n",
    "        for idx in range(len(tags)):\n",
    "            if images.iloc[image].Tags[idx]['Key']=='Name':\n",
    "                images.loc[image,'nameTag'] = images.iloc[image].Tags[idx]['Value']\n",
    "                \n",
    "    images.CreationDate=pd.to_datetime(images.CreationDate)\n",
    "    \n",
    "    selected_image_index = -1\n",
    "\n",
    "    while True:\n",
    "        try:\n",
    "            selected_image_index=int(selected_image_index)\n",
    "            mask = (selected_image_index>=0) & (selected_image_index<len(images))\n",
    "            assert( mask )\n",
    "            if mask:\n",
    "                break\n",
    "        except:\n",
    "            print(\"\\nAWS Available Images (AMI)\")\n",
    "            print(images[['Name','CreationDate','DataVolumeSize']])\n",
    "            selected_image_index = input('Select a row number [0,'+str(len(images)-1)+'] from available images ')\n",
    "\n",
    "\n",
    "    DATAVOLUME_NAME     =  images.Name[selected_image_index] + \" Chain Data\"\n",
    "    DATAVOLUME_SIZE     =  int(images.DataVolumeSize[selected_image_index])\n",
    "    AMI_ID              =  images.ImageId[selected_image_index]\n",
    "\n",
    "    while True:\n",
    "        try:\n",
    "            if DATAVOLUME_SIZE=='':\n",
    "                DATAVOLUME_SIZE = int(images.DataVolumeSize[selected_image_index])\n",
    "                break\n",
    "            DATAVOLUME_SIZE=int(DATAVOLUME_SIZE)\n",
    "            mask = (DATAVOLUME_SIZE > int(images.DataVolumeSize[selected_image_index]))\n",
    "            assert( mask )\n",
    "            if mask:\n",
    "                break\n",
    "        except:\n",
    "            DATAVOLUME_SIZE = input('Increase (disk) volume size to (input an integer >= '+\\\n",
    "                                    str(images.DataVolumeSize[selected_image_index])+\\\n",
    "                                    ' or press enter to leave unchanged) ')\n",
    "\n",
    "    types = ['t2.micro','t2.small','t2.medium','t2.large','t2.xlarge','t2.2xlarge']\n",
    "    while True:\n",
    "        try:\n",
    "            if INSTANCE_TYPE in types:\n",
    "                break\n",
    "            assert(INSTANCE_TYPE in types)\n",
    "        except:\n",
    "            INSTANCE_TYPE = input(\"Select instance type from \"+str(types)+\" \")\n",
    "\n",
    "\n",
    "    #     return images[['Name','nameTag','Description','CreationDate','ImageId','DataVolumeSize']]\n",
    "    return AMI_ID, DATAVOLUME_NAME, INSTANCE_TYPE, DATAVOLUME_SIZE"
   ]
  },
  {
   "cell_type": "code",
   "execution_count": null,
   "metadata": {},
   "outputs": [],
   "source": [
    "if __name__ == '__main__':\n",
    "    \n",
    "    try:\n",
    "        session = boto3.Session(profile_name='blockchain-nodes')\n",
    "    except:\n",
    "        print('boto3 session profile not found')\n",
    "\n",
    "    try:\n",
    "        AMI_ID, DATAVOLUME_NAME, INSTANCE_TYPE, DATAVOLUME_SIZE = get_images(session)\n",
    "    except:\n",
    "        print('client not connected on ec2.  unable to get images')\n",
    "        \n",
    "    try:\n",
    "        ec2 = session.resource('ec2')\n",
    "    except:\n",
    "        print('ec2 not connected, check aws api credentials')\n",
    "        \n",
    "    try:\n",
    "        print('Loading...',\n",
    "              '\\nAMI_ID:',AMI_ID,\n",
    "              '\\nDATAVOLUME_NAME',DATAVOLUME_NAME,\n",
    "              '\\nINSTANCE_TYPE',INSTANCE_TYPE,\n",
    "              '\\nDATAVOLUME_SIZE',DATAVOLUME_SIZE,'GB')\n",
    "        instance = launch_ami(session, AMI_ID, DATAVOLUME_NAME, INSTANCE_TYPE, DATAVOLUME_SIZE)\n",
    "    except:\n",
    "        print('Failure to launch')"
   ]
  },
  {
   "cell_type": "code",
   "execution_count": null,
   "metadata": {
    "collapsed": true
   },
   "outputs": [],
   "source": []
  }
 ],
 "metadata": {
  "kernelspec": {
   "display_name": "Python [conda env:res]",
   "language": "python",
   "name": "conda-env-res-py"
  },
  "language_info": {
   "codemirror_mode": {
    "name": "ipython",
    "version": 3
   },
   "file_extension": ".py",
   "mimetype": "text/x-python",
   "name": "python",
   "nbconvert_exporter": "python",
   "pygments_lexer": "ipython3",
   "version": "3.6.6"
  }
 },
 "nbformat": 4,
 "nbformat_minor": 2
}
