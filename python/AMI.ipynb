{
 "cells": [
  {
   "cell_type": "markdown",
   "metadata": {},
   "source": [
    "## AWS AMI\n",
    "\n",
    "1. Import boto3 package \n",
    "2. Read *blockchain-nodes* profile found in ~.aws/credentials\n",
    "3. Create a EC2 session for instance creation\n",
    "4. Read aws details for name, node, datavoluem size and instance type"
   ]
  },
  {
   "cell_type": "code",
   "execution_count": 1,
   "metadata": {
    "collapsed": true
   },
   "outputs": [],
   "source": [
    "import boto3\n",
    "import os\n",
    "import pandas as pd"
   ]
  },
  {
   "cell_type": "markdown",
   "metadata": {},
   "source": [
    "## Helper functions to find existing subnets and security group IDs.\n",
    "\n",
    "See AWS VPC notebook for creation of these resources."
   ]
  },
  {
   "cell_type": "code",
   "execution_count": 2,
   "metadata": {},
   "outputs": [],
   "source": [
    "def get_subnet_id(AVZONE,\n",
    "                  subnet_type='public'):\n",
    "    \n",
    "    for vpc in ec2.vpcs.all():\n",
    "        for az in ec2.meta.client.describe_availability_zones()[\"AvailabilityZones\"]:\n",
    "            for subnet in vpc.subnets.filter(Filters=[{\"Name\": \"availabilityZone\", \"Values\": [az[\"ZoneName\"]]}]):\n",
    "                if (az[\"ZoneName\"] == AVZONE) & (subnet_type in subnet.tags[0]['Value']):\n",
    "                    return vpc.id, subnet.id\n",
    "\n",
    "def get_security_group_id(session,VPC_ID,SECURITYGROUP_NAME):\n",
    "    client = boto3.client(\"ec2\", region_name=session.region_name)\n",
    "    return client.describe_security_groups(Filters = [{\"Name\":\"vpc-id\",\n",
    "                                               \"Values\":[VPC_ID]\n",
    "                                               },{\n",
    "                                                \"Name\":\"group-name\",\n",
    "                                                \"Values\":[SECURITYGROUP_NAME]\n",
    "                                              }])\\\n",
    "                ['SecurityGroups'][0]['GroupId']"
   ]
  },
  {
   "cell_type": "markdown",
   "metadata": {},
   "source": [
    "## Launch Existing AMI\n",
    "\n",
    "User data necessary for mounting blockchain data volume.  \n",
    "\n",
    "**TO DO** create entry in /etc/fstab during EC2 node creation to remove USERDATA.\n"
   ]
  },
  {
   "cell_type": "code",
   "execution_count": 6,
   "metadata": {
    "collapsed": true
   },
   "outputs": [],
   "source": [
    "def launch_ami(AMI_DIR, session, id, node):\n",
    "\n",
    "    ami_details = pd.read_csv(AMI_DIR+'ami.txt',sep='\\t')\n",
    "    ami_details = ami_details[(ami_details.id==id)&(ami_details.node==node)].reset_index()\n",
    "\n",
    "    VPC_ID, SUBNET_ID = get_subnet_id(session.region_name+'b',\"public\")\n",
    "    SECURITY_GROUP_ID = get_security_group_id(session, VPC_ID, \"blockchain-nodes-sg\")\n",
    "\n",
    "    DATAVOLUME_NAME     =  ami_details.name[0] + \" \" + ami_details.node[0] + \" Chain Data\"\n",
    "\n",
    "    USERDATA = '''#!/bin/bash\n",
    "    sudo mount /dev/xvdf /data\n",
    "\n",
    "    sudo xfs_growfs -d /data\n",
    "    '''\n",
    "\n",
    "    instance = ec2.create_instances(\n",
    "        ImageId=ami_details.ami_id[0],\n",
    "        MinCount=1,\n",
    "        MaxCount=1,\n",
    "        UserData=USERDATA,\n",
    "        IamInstanceProfile={\n",
    "            'Name': \"blockchain-node-role\"\n",
    "        },\n",
    "        BlockDeviceMappings=[\n",
    "            {\n",
    "                'DeviceName': '/dev/xvdf',\n",
    "                'Ebs': {\n",
    "                    'DeleteOnTermination': True,\n",
    "                    'VolumeSize': int(ami_details.datavolume_size[0]),\n",
    "                    'VolumeType': 'gp2'\n",
    "                },\n",
    "            },\n",
    "        ],\n",
    "        InstanceType=ami_details.type[0],\n",
    "        KeyName=\"blockchain-nodes-keypair\",\n",
    "        Placement={'AvailabilityZone':session.region_name+'b'},\n",
    "        TagSpecifications=[\n",
    "            {\n",
    "                'ResourceType': 'instance',\n",
    "                'Tags': [\n",
    "                    {\n",
    "                        'Key': 'Name',\n",
    "                        'Value': ami_details.name[0] + \" \" + ami_details.node[0]\n",
    "                    },\n",
    "                ]\n",
    "            },\n",
    "        ],\n",
    "        NetworkInterfaces=[{'SubnetId': SUBNET_ID, \n",
    "                         'DeviceIndex': 0, \n",
    "                         'AssociatePublicIpAddress': True, \n",
    "                         'Groups': [SECURITY_GROUP_ID]}])\n",
    "    \n",
    "    return instance"
   ]
  },
  {
   "cell_type": "code",
   "execution_count": 7,
   "metadata": {},
   "outputs": [],
   "source": [
    "if __name__ == '__main__':\n",
    "    AMI_DIR = '/data/code/aws/dadr/aws/'\n",
    "    id   = 'algorand.com'\n",
    "    node = 'Mainnet'\n",
    "\n",
    "    try:\n",
    "        session = boto3.Session(profile_name='blockchain-nodes')\n",
    "    except:\n",
    "        print('boto3 session profile not found')\n",
    "\n",
    "    try:\n",
    "        ec2 = session.resource('ec2')\n",
    "    except:\n",
    "        print('ec2 not connected, check aws api credentials')\n",
    "        \n",
    "    try:\n",
    "        instance = launch_ami(AMI_DIR, session, id, node)\n",
    "    except:\n",
    "        print('Failure to launch')"
   ]
  },
  {
   "cell_type": "code",
   "execution_count": null,
   "metadata": {
    "collapsed": true
   },
   "outputs": [],
   "source": []
  }
 ],
 "metadata": {
  "kernelspec": {
   "display_name": "Python [conda env:res]",
   "language": "python",
   "name": "conda-env-res-py"
  },
  "language_info": {
   "codemirror_mode": {
    "name": "ipython",
    "version": 3
   },
   "file_extension": ".py",
   "mimetype": "text/x-python",
   "name": "python",
   "nbconvert_exporter": "python",
   "pygments_lexer": "ipython3",
   "version": "3.6.6"
  }
 },
 "nbformat": 4,
 "nbformat_minor": 2
}
