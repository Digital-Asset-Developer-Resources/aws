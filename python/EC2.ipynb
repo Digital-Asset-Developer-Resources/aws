{
 "cells": [
  {
   "cell_type": "markdown",
   "metadata": {},
   "source": [
    "## [Create EC2 Instance](https://blog.ipswitch.com/how-to-create-an-ec2-instance-with-python)\n",
    "\n",
    "\n",
    "#### add [boto3 credentials](https://boto3.amazonaws.com/v1/documentation/api/latest/guide/configuration.html) to ~/.aws/credentials using a profile_name of form:\n",
    "\n",
    "```\n",
    "[default]\n",
    "aws_access_key_id = XXXXXXXXXXXXXXXXXXXXXXXXXXXX\n",
    "aws_secret_access_key = xxxxxxxxxxxxxxxxxxxxxxxxxxx\n",
    "\n",
    "region=us-east-1\n",
    "\n",
    "\n",
    "[seigniorage]\n",
    "aws_access_key_id = XXXXXXXXXXXXXXXXXXXXXXXXXXX\n",
    "aws_secret_access_key = xxxxxxxxxxxxxxxxxxxxxxxxx\n",
    "\n",
    "region=us-east-2\n",
    "```"
   ]
  },
  {
   "cell_type": "code",
   "execution_count": null,
   "metadata": {
    "collapsed": true
   },
   "outputs": [],
   "source": [
    "import boto3\n",
    "import os\n",
    "\n",
    "\n",
    "session = boto3.Session(profile_name='seigniorage')\n",
    "ec2 = session.resource('ec2')"
   ]
  },
  {
   "cell_type": "code",
   "execution_count": null,
   "metadata": {
    "collapsed": true
   },
   "outputs": [],
   "source": [
    "KEY_NAME  =  \"blockchain-nodes-keypair\"\n",
    "KEY_DIRECTORY = \"/data/code/software/aws/seigniorage/test/\"\n",
    "\n",
    "\n",
    "SECURITYGROUP_NAME  =  \"blockchain-nodes-sg\"\n",
    "\n",
    "DATAVOLUME_NAME     =  \"Algorand Mainnet Chain Data\"\n",
    "DATAVOLUME_SIZE     =  64\n",
    "\n",
    "INSTANCE_NAME = 'Algorand Mainnet'\n",
    "Amazon_Ubuntu_AMI_18_04_LTS = 'ami-0d5d9d301c853a04a'\n",
    "Instance_Type = 't2.medium' #micro=1GB, small=2GB, medium=4GB, large=8GB https://us-east-2.console.aws.amazon.com/ec2/v2/home?region=us-east-2#LaunchInstanceWizard:\n",
    "\n",
    "AVZONE = session.region_name+'b'\n",
    "VPC_ID, SUBNET_ID = get_subnet_id(AVZONE,\"public\")\n",
    "SECURITY_GROUP_ID = get_security_group_id(session,VPC_ID,SECURITYGROUP_NAME)"
   ]
  },
  {
   "cell_type": "code",
   "execution_count": null,
   "metadata": {
    "collapsed": true
   },
   "outputs": [],
   "source": [
    "def get_subnet_id(AVZONE=session.region_name+'b',\n",
    "                  subnet_type='public'):\n",
    "    \n",
    "    for vpc in ec2.vpcs.all():\n",
    "        for az in ec2.meta.client.describe_availability_zones()[\"AvailabilityZones\"]:\n",
    "            for subnet in vpc.subnets.filter(Filters=[{\"Name\": \"availabilityZone\", \"Values\": [az[\"ZoneName\"]]}]):\n",
    "                #print(vpc.id, az[\"ZoneName\"], subnet.id, subnet.tags[0]['Value'])\n",
    "                if (az[\"ZoneName\"] == AVZONE) & (subnet_type in subnet.tags[0]['Value']):\n",
    "                    return vpc.id, subnet.id\n",
    "\n",
    "def get_security_group_id(session,VPC_ID,SECURITYGROUP_NAME):\n",
    "    client = boto3.client(\"ec2\", region_name=session.region_name)\n",
    "    return client.describe_security_groups(Filters = [{\"Name\":\"vpc-id\",\n",
    "                                               \"Values\":[VPC_ID]\n",
    "                                               },{\n",
    "                                                \"Name\":\"group-name\",\n",
    "                                                \"Values\":[SECURITYGROUP_NAME]\n",
    "                                              }])\\\n",
    "                ['SecurityGroups'][0]['GroupId']"
   ]
  },
  {
   "cell_type": "markdown",
   "metadata": {},
   "source": [
    "# Create EC2 Instance\n",
    "\n",
    "1. Key Pair\n",
    "2. Ubuntu Server"
   ]
  },
  {
   "cell_type": "markdown",
   "metadata": {},
   "source": [
    "### Create Key Pair for EC2 Instance"
   ]
  },
  {
   "cell_type": "code",
   "execution_count": null,
   "metadata": {
    "collapsed": true
   },
   "outputs": [],
   "source": [
    "file = KEY_DIRECTORY + KEY_NAME + '.pem'\n",
    "outfile = open(file,'w')\n",
    "\n",
    "# call the boto ec2 function to create a key pair\n",
    "key_pair = ec2.create_key_pair(KeyName=KEY_NAME)\n",
    "\n",
    "# capture the key and store it in a file\n",
    "KeyPairOut = str(key_pair.key_material)\n",
    "print(KeyPairOut)\n",
    "outfile.write(KeyPairOut)\n",
    "outfile.close()\n",
    "\n",
    "os.chmod(file,0o400)"
   ]
  },
  {
   "cell_type": "markdown",
   "metadata": {},
   "source": [
    "### User data for ubuntu server initialization"
   ]
  },
  {
   "cell_type": "code",
   "execution_count": null,
   "metadata": {
    "collapsed": true
   },
   "outputs": [],
   "source": [
    "USERDATA = '''#!/bin/bash\n",
    "sudo apt-get update\n",
    "\n",
    "sudo mkfs -t xfs /dev/xvdf\n",
    "sudo mkdir /data\n",
    "sudo mount /dev/xvdf /data\n",
    "sudo chown -R ubuntu:ubuntu /data\n",
    "\n",
    "export CHAIN_DATA=/data/algorand.com\n",
    "echo 'export CHAIN_DATA=/data/algorand.com'  >> /home/ubuntu/.bashrc\n",
    "\n",
    "export PATH=$PATH:$CHAIN_DATA\n",
    "echo 'export PATH=$PATH:/data/algorand.com'  >> /home/ubuntu/.bashrc\n",
    "\n",
    "source ~/.bashrc\n",
    "\n",
    "mkdir $CHAIN_DATA\n",
    "sudo chown -R ubuntu:ubuntu /data\n",
    "\n",
    "sudo ln -s $CHAIN_DATA /var/lib/algorand\n",
    "\n",
    "\n",
    "sudo apt-get update\n",
    "sudo apt-get install -y python3-pip\n",
    "\n",
    "yes w | pip3 install py-algorand-sdk\n",
    "\n",
    "sudo apt-get install -y golang-go\n",
    "go get -u github.com/algorand/go-algorand-sdk/...\n",
    "\n",
    "sudo apt-get install -y npm\n",
    "npm install algosdk\n",
    "\n",
    "'''\n",
    "\n",
    "instances = ec2.create_instances(\n",
    "    ImageId=Amazon_Ubuntu_AMI_18_04_LTS,\n",
    "    MinCount=1,\n",
    "    MaxCount=1,\n",
    "    UserData=USERDATA,\n",
    "    IamInstanceProfile={\n",
    "        'Name': 'truepersons-webserver-role'\n",
    "    },\n",
    "    BlockDeviceMappings=[\n",
    "        {\n",
    "            'DeviceName': '/dev/xvdf',\n",
    "            'Ebs': {\n",
    "                'DeleteOnTermination': True,\n",
    "                'VolumeSize': DATAVOLUME_SIZE,\n",
    "                'VolumeType': 'gp2'\n",
    "            },\n",
    "        },\n",
    "    ],\n",
    "    InstanceType=Instance_Type,\n",
    "    KeyName=KEY_NAME,\n",
    "    Placement={'AvailabilityZone':AVZONE},\n",
    "    TagSpecifications=[\n",
    "        {\n",
    "            'ResourceType': 'instance',\n",
    "            'Tags': [\n",
    "                {\n",
    "                    'Key': 'Name',\n",
    "                    'Value': INSTANCE_NAME\n",
    "                },\n",
    "            ]\n",
    "        },\n",
    "    ],\n",
    "    NetworkInterfaces=[{'SubnetId': SUBNET_ID, \n",
    "                     'DeviceIndex': 0, \n",
    "                     'AssociatePublicIpAddress': True, \n",
    "                     'Groups': [SECURITY_GROUP_ID]}])"
   ]
  },
  {
   "cell_type": "markdown",
   "metadata": {},
   "source": [
    "### Install latest version of Algorand"
   ]
  },
  {
   "cell_type": "code",
   "execution_count": null,
   "metadata": {
    "collapsed": true
   },
   "outputs": [],
   "source": [
    "INSTALL = '''\n",
    "sudo apt-get update\n",
    "sudo apt-get install -y gnupg2 curl software-properties-common\n",
    "curl -O https://releases.algorand.com/key.pub\n",
    "sudo apt-key add key.pub\n",
    "sudo add-apt-repository \"deb https://releases.algorand.com/deb/ stable main\"\n",
    "sudo apt-get update\n",
    "sudo apt-get install -y algorand\n",
    "sudo mv $CHAIN_DATA/config.json.example $CHAIN_DATA/config.json\n",
    "sudo chown -R algorand:algorand $CHAIN_DATA\n",
    "sudo systemctl start algorand\n",
    "algod -v\n",
    "'''"
   ]
  }
 ],
 "metadata": {
  "kernelspec": {
   "display_name": "Python [conda env:res]",
   "language": "python",
   "name": "conda-env-res-py"
  },
  "language_info": {
   "codemirror_mode": {
    "name": "ipython",
    "version": 3
   },
   "file_extension": ".py",
   "mimetype": "text/x-python",
   "name": "python",
   "nbconvert_exporter": "python",
   "pygments_lexer": "ipython3",
   "version": "3.6.6"
  }
 },
 "nbformat": 4,
 "nbformat_minor": 2
}
